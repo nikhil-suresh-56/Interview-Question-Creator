{
 "cells": [
  {
   "cell_type": "code",
   "execution_count": 2,
   "metadata": {},
   "outputs": [
    {
     "name": "stdout",
     "output_type": "stream",
     "text": [
      "OK\n"
     ]
    }
   ],
   "source": [
    "print(\"OK\")"
   ]
  },
  {
   "cell_type": "code",
   "execution_count": 3,
   "metadata": {},
   "outputs": [
    {
     "name": "stdout",
     "output_type": "stream",
     "text": [
      "Hello world \n",
      " My world is ...\n"
     ]
    }
   ],
   "source": [
    "print(\"Hello world \\n My world is ...\")"
   ]
  },
  {
   "cell_type": "code",
   "execution_count": 4,
   "metadata": {},
   "outputs": [],
   "source": [
    "import os \n",
    "from dotenv import load_dotenv \n",
    "from langchain.document_loaders import PyPDFLoader\n",
    "from langchain.text_splitter import TokenTextSplitter "
   ]
  },
  {
   "cell_type": "code",
   "execution_count": 8,
   "metadata": {},
   "outputs": [
    {
     "name": "stdout",
     "output_type": "stream",
     "text": [
      "e:\\#GenAI_Krish_Nail\\7-End-to-End GenAI projects using LLOPS and Deployment\\Interview-Question-Creator\n"
     ]
    }
   ],
   "source": [
    "%cd .."
   ]
  },
  {
   "cell_type": "code",
   "execution_count": 41,
   "metadata": {},
   "outputs": [],
   "source": [
    "# load_dotenv()\n",
    "# OpenAI_api_key = os.environ.get('OPENAI_API_KEY') \n",
    "# OpenAI_api_key"
   ]
  },
  {
   "cell_type": "code",
   "execution_count": 6,
   "metadata": {},
   "outputs": [],
   "source": [
    "os.environ['OPENAI_API_KEY'] = OpenAI_api_key "
   ]
  },
  {
   "cell_type": "code",
   "execution_count": 7,
   "metadata": {},
   "outputs": [
    {
     "data": {
      "text/plain": [
       "'e:\\\\#GenAI_Krish_Nail\\\\7-End-to-End GenAI projects using LLOPS and Deployment\\\\Interview-Question-Creator\\\\research'"
      ]
     },
     "execution_count": 7,
     "metadata": {},
     "output_type": "execute_result"
    }
   ],
   "source": [
    "os.getcwd() "
   ]
  },
  {
   "cell_type": "code",
   "execution_count": 135,
   "metadata": {},
   "outputs": [
    {
     "name": "stdout",
     "output_type": "stream",
     "text": [
      "e:\\#GenAI_Krish_Nail\\7-End-to-End GenAI projects using LLOPS and Deployment\\Interview-Question-Creator\n"
     ]
    }
   ],
   "source": []
  },
  {
   "cell_type": "code",
   "execution_count": 9,
   "metadata": {},
   "outputs": [
    {
     "data": {
      "text/plain": [
       "'e:\\\\#GenAI_Krish_Nail\\\\7-End-to-End GenAI projects using LLOPS and Deployment\\\\Interview-Question-Creator'"
      ]
     },
     "execution_count": 9,
     "metadata": {},
     "output_type": "execute_result"
    }
   ],
   "source": [
    "%pwd"
   ]
  },
  {
   "cell_type": "code",
   "execution_count": 10,
   "metadata": {},
   "outputs": [],
   "source": [
    "file_path = \"data/stats.pdf\" \n",
    "loader = PyPDFLoader(file_path) \n",
    "data = loader.load() "
   ]
  },
  {
   "cell_type": "code",
   "execution_count": 11,
   "metadata": {},
   "outputs": [
    {
     "data": {
      "text/plain": [
       "[Document(metadata={'source': 'data/stats.pdf', 'page': 0}, page_content='Importance\\nand\\nthe\\nuse\\nof\\ncorrelation\\nin\\nStatistics\\nIntroduction\\nCorrelation\\nis\\na\\nstatistical\\nmeasure\\nthat\\nexpresses\\nthe\\nextent\\nto\\nwhich\\ntwo\\nvariables\\nare\\nlinearly\\nrelated.\\nIt\\nis\\na\\ncommon\\ntool\\nfor\\ndescribing\\nsimple\\nrelationships\\nwithout\\nmaking\\na\\nstatement\\nabout\\ncause\\nand\\neffect.\\nCorrelation\\ncoefficients\\nrange\\nfrom\\n-1\\nto\\n1,\\nwith\\na\\nvalue\\nof\\n0\\nindicating\\nno\\nlinear\\nrelationship\\nbetween\\nthe\\ntwo\\nvariables,\\na\\nvalue\\nof\\n1\\nindicating\\na\\nperfect\\npositive\\nlinear\\nrelationship,\\nand\\na\\nvalue\\nof\\n-1\\nindicating\\na\\nperfect\\nnegative\\nlinear\\nrelationship.\\nCorrelation\\nis\\nimportant\\nin\\nstatistics\\nbecause\\nit\\ncan\\nbe\\nused\\nto\\n1.\\nIdentify\\nrelationships\\nbetween\\nvariables:\\nCorrelation\\ncan\\nbe\\nused\\nto\\nidentify\\nwhether\\nthere\\nis\\na\\nrelationship\\nbetween\\ntwo\\nvariables,\\nand\\nif\\nso,\\nwhether\\nthe\\nrelationship\\nis\\npositive\\nor\\nnegative.\\nThis\\ninformation\\ncan\\nbe\\nuseful\\nfor\\nunderstanding\\nthe\\nrelationships\\nbetween\\ndifferent\\nfactors\\nin\\na\\ncomplex\\nsystem.\\n2.\\nMake\\npredictions:\\nIf\\nthere\\nis\\na\\nstrong\\ncorrelation\\nbetween\\ntwo\\nvariables,\\nit\\nis\\npossible\\nto\\nuse\\nthe\\nvalue\\nof\\none\\nvariable\\nto\\npredict\\nthe\\nvalue\\nof\\nthe\\nother\\nvariable.\\nThis\\ncan\\nbe\\nuseful\\nfor\\nmaking\\npredictions\\nin\\na\\nvariety\\nof\\nfields,\\nsuch\\nas\\nbusiness,\\nfinance,\\nand\\nmedicine.\\n3.\\nDevelop\\ncausal\\nmodels:\\nCorrelation\\ncan\\nbe\\nused\\nas\\na\\nstarting\\npoint\\nfor\\ndeveloping\\ncausal\\nmodels,\\nwhich\\nare\\nmodels\\nthat\\ndescribe\\nhow\\nchanges\\nin\\none\\nvariable\\ncause\\nchanges\\nin\\nother\\nvariables.\\nCausal\\nmodels\\ncan\\nbe\\nused\\nto\\nmake\\nmore\\naccurate\\npredictions\\nand\\nto\\ndevelop\\ninterventions\\nto\\nchange\\nthe\\nvalues\\nof\\nspecific\\nvariables.'),\n",
       " Document(metadata={'source': 'data/stats.pdf', 'page': 1}, page_content='Correlation\\nis\\nused\\nin\\na\\nwide\\nvariety\\nof\\nfields\\nincluding\\n1.\\nBusiness:\\nCorrelation\\ncan\\nbe\\nused\\nto\\nidentify\\nrelationships\\nbetween\\ndifferent\\nbusiness\\nvariables,\\nsuch\\nas\\nsales,\\nadvertising\\nspending,\\nand\\ncustomer\\nsatisfaction.\\nThis\\ninformation\\ncan\\nbe\\nused\\nto\\nmake\\nbetter\\nbusiness\\ndecisions,\\nsuch\\nas\\nhow\\nto\\nallocate\\nmarketing\\nresources.\\n2.\\nFinance:\\nCorrelation\\ncan\\nbe\\nused\\nto\\nidentify\\nrelationships\\nbetween\\ndifferent\\nfinancial\\nassets,\\nsuch\\nas\\nstocks,\\nbonds,\\nand\\ncommodities.\\nThis\\ninformation\\ncan\\nbe\\nused\\nto\\nbuild\\ndiversified\\nportfolios\\nthat\\nreduce\\nrisk.\\n3.\\nMedicine:\\nCorrelation\\ncan\\nbe\\nused\\nto\\nidentify\\nrelationships\\nbetween\\ndifferent\\nmedical\\nvariables,\\nsuch\\nas\\nrisk\\nfactors\\nfor\\ndiseases\\nand\\nthe\\neffectiveness\\nof\\ntreatments.\\nThis\\ninformation\\ncan\\nbe\\nused\\nto\\nimprove\\nthe\\nprevention,\\ndiagnosis,\\nand\\ntreatment\\nof\\ndiseases.\\n4.\\nPsychology:\\nCorrelation\\ncan\\nbe\\nused\\nto\\nidentify\\nrelationships\\nbetween\\ndifferent\\npsychological\\nvariables,\\nsuch\\nas\\npersonality\\ntraits,\\ncognitive\\nabilities,\\nand\\nmental\\ndisorders.\\nThis\\ninformation\\ncan\\nbe\\nused\\nto\\ndevelop\\nbetter\\npsychological\\nassessments\\nand\\ntreatments.\\nHow\\ncorrelation\\nis\\nused\\nin\\nthe\\nreal\\nworld\\n1.\\nA\\nmarketing\\nmanager\\nmight\\nuse\\ncorrelation\\nto\\nidentify\\nthe\\nrelationship\\nbetween\\nadvertising\\nspending\\nand\\nsales.\\nThis\\ninformation\\ncould\\nbe\\nused\\nto\\ndecide\\nhow\\nmuch\\nmoney\\nto\\nallocate\\nto\\nadvertising.\\n2.\\nA\\nfinancial\\nanalyst\\nmight\\nuse\\ncorrelation\\nto\\nidentify\\nthe\\nrelationship\\nbetween\\nthe\\nreturns\\nof\\ndifferent\\nstocks.\\nThis\\ninformation\\ncould\\nbe'),\n",
       " Document(metadata={'source': 'data/stats.pdf', 'page': 2}, page_content='used\\nto\\nbuild\\na\\nportfolio\\nof\\nstocks\\nthat\\nis\\ndiversified\\nand\\nhas\\na\\nlower\\noverall\\nrisk.\\n3.\\nA\\nmedical\\nresearcher\\nmight\\nuse\\ncorrelation\\nto\\nidentify\\nthe\\nrelationship\\nbetween\\nsmoking\\nand\\nlung\\ncancer.\\nThis\\ninformation\\ncould\\nbe\\nused\\nto\\ndevelop\\npublic\\nhealth\\ncampaigns\\nto\\ndiscourage\\nsmoking.\\n4.\\nA\\npsychologist\\nmight\\nuse\\ncorrelation\\nto\\nidentify\\nthe\\nrelationship\\nbetween\\nanxiety\\nand\\ndepression.\\nThis\\ninformation\\ncould\\nbe\\nused\\nto\\ndevelop\\nmore\\neffective\\ntreatments\\nfor\\nanxiety\\nand\\ndepression.\\nConclusion\\nIt\\nis\\nimportant\\nto\\nnote\\nthat\\ncorrelation\\ndoes\\nnot\\nequal\\ncausation.\\nJust\\nbecause\\ntwo\\nvariables\\nare\\ncorrelated\\ndoes\\nnot\\nmean\\nthat\\none\\nvariable\\ncauses\\nthe\\nother .\\nFor\\nexample,\\nthere\\nis\\na\\nstrong\\ncorrelation\\nbetween\\nice\\ncream\\nsales\\nand\\nshark\\nattacks.\\nHowever ,\\nthis\\ndoes\\nnot\\nmean\\nthat\\neating\\nice\\ncream\\ncauses\\nshark\\nattacks.\\nInstead,\\nthere\\nis\\nlikely\\na\\nthird\\nvariable,\\nsuch\\nas\\nhot\\nweather ,\\nthat\\ncauses\\nboth\\nice\\ncream\\nsales\\nand\\nshark\\nattacks\\nto\\nincrease.\\nOverall,\\ncorrelation\\nis\\na\\npowerful\\nstatistical\\ntool\\nthat\\ncan\\nbe\\nused\\nto\\nidentify\\nrelationships\\nbetween\\nvariables,\\nmake\\npredictions,\\nand\\ndevelop\\ncausal\\nmodels.\\nIt\\nis\\nused\\nin\\na\\nwide\\nvariety\\nof\\nfields\\nto\\nmake\\nbetter\\ndecisions\\nand\\nimprove\\noutcomes.')]"
      ]
     },
     "execution_count": 11,
     "metadata": {},
     "output_type": "execute_result"
    }
   ],
   "source": [
    "data"
   ]
  },
  {
   "cell_type": "code",
   "execution_count": 12,
   "metadata": {},
   "outputs": [
    {
     "data": {
      "text/plain": [
       "3"
      ]
     },
     "execution_count": 12,
     "metadata": {},
     "output_type": "execute_result"
    }
   ],
   "source": [
    "len(data)"
   ]
  },
  {
   "cell_type": "code",
   "execution_count": 13,
   "metadata": {},
   "outputs": [],
   "source": [
    "question_gen = \"\" \n",
    "for page in data: \n",
    "    question_gen += page.page_content "
   ]
  },
  {
   "cell_type": "code",
   "execution_count": 14,
   "metadata": {},
   "outputs": [],
   "source": [
    "chunking = TokenTextSplitter(\n",
    "\n",
    "    model_name = 'gpt-3.5-turbo', chunk_size = 10000,\n",
    "    chunk_overlap = 200 \n",
    ")"
   ]
  },
  {
   "cell_type": "code",
   "execution_count": 15,
   "metadata": {},
   "outputs": [],
   "source": [
    "after_chunking = chunking.split_text(question_gen) "
   ]
  },
  {
   "cell_type": "code",
   "execution_count": 16,
   "metadata": {},
   "outputs": [
    {
     "data": {
      "text/plain": [
       "1"
      ]
     },
     "execution_count": 16,
     "metadata": {},
     "output_type": "execute_result"
    }
   ],
   "source": [
    "len(after_chunking)  "
   ]
  },
  {
   "cell_type": "code",
   "execution_count": 17,
   "metadata": {},
   "outputs": [
    {
     "data": {
      "text/plain": [
       "list"
      ]
     },
     "execution_count": 17,
     "metadata": {},
     "output_type": "execute_result"
    }
   ],
   "source": [
    "type(after_chunking)"
   ]
  },
  {
   "cell_type": "markdown",
   "metadata": {},
   "source": [
    "# Document Term matrix "
   ]
  },
  {
   "cell_type": "code",
   "execution_count": 18,
   "metadata": {},
   "outputs": [],
   "source": [
    "from langchain.docstore.document import Document "
   ]
  },
  {
   "cell_type": "code",
   "execution_count": 19,
   "metadata": {},
   "outputs": [],
   "source": [
    "doc_question_after_chunking = [Document (page_content=\n",
    "                                          x )for x in after_chunking ] "
   ]
  },
  {
   "cell_type": "code",
   "execution_count": 20,
   "metadata": {},
   "outputs": [
    {
     "name": "stdout",
     "output_type": "stream",
     "text": [
      "<class 'langchain_core.documents.base.Document'>\n"
     ]
    }
   ],
   "source": [
    "# print(doc_question_after_chunking)  \n",
    "print(type(doc_question_after_chunking[0]))  "
   ]
  },
  {
   "cell_type": "code",
   "execution_count": 21,
   "metadata": {},
   "outputs": [],
   "source": [
    "chunking_answer = TokenTextSplitter(\n",
    "\n",
    "    model_name = 'gpt-3.5-turbo', chunk_size = 1000,\n",
    "    chunk_overlap = 100 \n",
    ")"
   ]
  },
  {
   "cell_type": "code",
   "execution_count": 22,
   "metadata": {},
   "outputs": [],
   "source": [
    "document_answer_gen = chunking_answer.split_documents(doc_question_after_chunking) "
   ]
  },
  {
   "cell_type": "code",
   "execution_count": 23,
   "metadata": {},
   "outputs": [
    {
     "data": {
      "text/plain": [
       "2"
      ]
     },
     "execution_count": 23,
     "metadata": {},
     "output_type": "execute_result"
    }
   ],
   "source": [
    "len(document_answer_gen) "
   ]
  },
  {
   "cell_type": "markdown",
   "metadata": {},
   "source": [
    "# Initializing the LLM model and "
   ]
  },
  {
   "cell_type": "code",
   "execution_count": 24,
   "metadata": {},
   "outputs": [],
   "source": [
    "from langchain.chat_models import ChatOpenAI \n",
    "from langchain_openai import ChatOpenAI "
   ]
  },
  {
   "cell_type": "code",
   "execution_count": 25,
   "metadata": {},
   "outputs": [],
   "source": [
    "llm_ques_gen_pipeline = ChatOpenAI(model = 'gpt-3.5-turbo') "
   ]
  },
  {
   "cell_type": "code",
   "execution_count": 27,
   "metadata": {},
   "outputs": [],
   "source": [
    "prompt_template = \"\"\"\n",
    "\n",
    "You are an expert at creating questions based on coding materials and documentations. \n",
    "Your goal is to prepare a coder or programmer for their exam and coding tests. \n",
    "You do this by asking questions about the ext below: \n",
    "\n",
    "-------\n",
    "{text}\n",
    "-------\n",
    "Create questions that will prepare the coders or programmers for their tests.\n",
    "Make sure not to lose any important information.\n",
    "\n",
    "QUESTIONS: \n",
    "\n",
    "\n",
    "\"\"\"\n",
    "\n",
    "\n"
   ]
  },
  {
   "cell_type": "code",
   "execution_count": 28,
   "metadata": {},
   "outputs": [],
   "source": [
    "from langchain.prompts import PromptTemplate \n",
    "\n",
    "\n"
   ]
  },
  {
   "cell_type": "code",
   "execution_count": 29,
   "metadata": {},
   "outputs": [],
   "source": [
    "PROMPT_QUESTIONS = PromptTemplate(template = prompt_template, input_variable =['text']) "
   ]
  },
  {
   "cell_type": "code",
   "execution_count": 30,
   "metadata": {},
   "outputs": [],
   "source": [
    "refine_template = (\n",
    "\n",
    "    \"\"\" \n",
    "You are an exper tat creating prcic questions based on coding material and documentation.\n",
    "Your goal is to help a coder or programmer prepare for a coding test. \n",
    "We have  received some proactice questions to a certain extent: {existing_answer}\n",
    "\n",
    "------\n",
    "{text}\n",
    "------\n",
    "\n",
    "\n",
    "Given the new context, refine the original questions in English. \n",
    "If the context is not helpful, please provide the original questions. \n",
    "\n",
    "QUESTIONS: \n",
    "\n",
    "    \"\"\"\n",
    "\n",
    "\n",
    ")"
   ]
  },
  {
   "cell_type": "code",
   "execution_count": 31,
   "metadata": {},
   "outputs": [],
   "source": [
    "REFINE_PROMPT_QUESTIONS = PromptTemplate(\n",
    "input_variable =['existing_answer', 'text' ] ,\n",
    "template = refine_template \n",
    ")"
   ]
  },
  {
   "cell_type": "markdown",
   "metadata": {},
   "source": [
    "# Creating a chain "
   ]
  },
  {
   "cell_type": "code",
   "execution_count": 32,
   "metadata": {},
   "outputs": [],
   "source": [
    "from langchain.chains import load_summarize_chain "
   ]
  },
  {
   "cell_type": "code",
   "execution_count": 33,
   "metadata": {},
   "outputs": [],
   "source": [
    "ques_gen_chain = load_summarize_chain (\n",
    "    llm = llm_ques_gen_pipeline, \n",
    "    chain_type = \"refine\", verbose = False, \n",
    "    question_prompt = PROMPT_QUESTIONS, refine_prompt = REFINE_PROMPT_QUESTIONS\n",
    "    \n",
    ")"
   ]
  },
  {
   "cell_type": "markdown",
   "metadata": {},
   "source": [
    "# defining the wrapper "
   ]
  },
  {
   "cell_type": "code",
   "execution_count": 34,
   "metadata": {},
   "outputs": [
    {
     "name": "stderr",
     "output_type": "stream",
     "text": [
      "C:\\Users\\user\\AppData\\Local\\Temp\\ipykernel_21600\\3278647007.py:1: LangChainDeprecationWarning: The method `Chain.run` was deprecated in langchain 0.1.0 and will be removed in 1.0. Use :meth:`~invoke` instead.\n",
      "  ques = ques_gen_chain.run(document_answer_gen)\n"
     ]
    },
    {
     "name": "stdout",
     "output_type": "stream",
     "text": [
      "1. What is correlation and how is it defined in statistics?\n",
      "2. Explain the range of correlation coefficients and what each value indicates.\n",
      "3. How can correlation be used to identify relationships between variables?\n",
      "4. In what ways can correlation be used to make predictions in various fields?\n",
      "5. Describe how correlation can be used as a starting point for developing causal models.\n",
      "6. Provide examples of how correlation is used in business, finance, medicine, and psychology.\n",
      "7. How can correlation be used in the real world by a marketing manager and a financial analyst?\n",
      "8. Explain the importance of correlation in making better business decisions and reducing risk in finance.\n",
      "9. How can correlation be used to improve the prevention, diagnosis, and treatment of diseases in medicine?\n",
      "10. In what ways can correlation be used to develop better psychological assessments and treatments in psychology?\n"
     ]
    }
   ],
   "source": [
    "ques = ques_gen_chain.run(document_answer_gen) \n",
    "\n",
    "print(ques)"
   ]
  },
  {
   "cell_type": "code",
   "execution_count": 35,
   "metadata": {},
   "outputs": [
    {
     "name": "stderr",
     "output_type": "stream",
     "text": [
      "C:\\Users\\user\\AppData\\Local\\Temp\\ipykernel_21600\\1542150785.py:4: LangChainDeprecationWarning: The class `OpenAIEmbeddings` was deprecated in LangChain 0.0.9 and will be removed in 1.0. An updated version of the class exists in the :class:`~langchain-openai package and should be used instead. To use it run `pip install -U :class:`~langchain-openai` and import as `from :class:`~langchain_openai import OpenAIEmbeddings``.\n",
      "  embedding_model = OpenAIEmbeddings()\n"
     ]
    }
   ],
   "source": [
    "from langchain.embeddings.openai import OpenAIEmbeddings \n",
    "# from langchain-openai import OpenAIEmbeddings  \n",
    "\n",
    "embedding_model = OpenAIEmbeddings() \n",
    "from langchain.vectorstores import FAISS \n",
    "vectro_store = FAISS.from_documents (document_answer_gen, embedding_model) "
   ]
  },
  {
   "cell_type": "code",
   "execution_count": 36,
   "metadata": {},
   "outputs": [],
   "source": [
    "# Initializing LLM for answer generation \n",
    "llm_answer_gen = ChatOpenAI(temperature= 0.1, model = \"gpt-3.5-turbo\") "
   ]
  },
  {
   "cell_type": "code",
   "execution_count": 37,
   "metadata": {},
   "outputs": [],
   "source": [
    "\n",
    "ques_list = ques.split (\"\\n\")\n"
   ]
  },
  {
   "cell_type": "code",
   "execution_count": 38,
   "metadata": {},
   "outputs": [],
   "source": [
    "from langchain.chains import RetrievalQA "
   ]
  },
  {
   "cell_type": "code",
   "execution_count": 39,
   "metadata": {},
   "outputs": [],
   "source": [
    "answer_generation_chain = RetrievalQA.from_chain_type (llm= llm_answer_gen,  chain_type = \"stuff\", \n",
    "                                                       retriever = vectro_store.as_retriever()) "
   ]
  },
  {
   "cell_type": "code",
   "execution_count": 40,
   "metadata": {},
   "outputs": [
    {
     "name": "stdout",
     "output_type": "stream",
     "text": [
      "Question 1. What is correlation and how is it defined in statistics?\n",
      "Answer:  Correlation is a statistical measure that expresses the extent to which two variables are linearly related. It is a tool for describing simple relationships without making a statement about cause and effect. Correlation coefficients range from -1 to 1, with 0 indicating no linear relationship, 1 indicating a perfect positive linear relationship, and -1 indicating a perfect negative linear relationship.\n",
      "------------------------------------------------------------------\\n\n",
      "\n",
      "Question 2. Explain the range of correlation coefficients and what each value indicates.\n",
      "Answer:  The range of correlation coefficients is from -1 to 1. Here is what each value indicates:\n",
      "\n",
      "- A correlation coefficient of 0 indicates no linear relationship between the two variables.\n",
      "- A correlation coefficient of 1 indicates a perfect positive linear relationship, meaning that as one variable increases, the other variable also increases in a linear fashion.\n",
      "- A correlation coefficient of -1 indicates a perfect negative linear relationship, meaning that as one variable increases, the other variable decreases in a linear fashion.\n",
      "\n",
      "These values help to quantify the strength and direction of the relationship between two variables.\n",
      "------------------------------------------------------------------\\n\n",
      "\n",
      "Question 3. How can correlation be used to identify relationships between variables?\n",
      "Answer:  Correlation can be used to identify relationships between variables by measuring the extent to which two variables are linearly related. A correlation coefficient ranging from -1 to 1 indicates the strength and direction of the relationship. A value of 0 suggests no linear relationship, 1 indicates a perfect positive linear relationship, and -1 indicates a perfect negative linear relationship. By analyzing the correlation coefficient, one can determine if there is a positive or negative relationship between the variables, helping to understand the connections between different factors in a system.\n",
      "------------------------------------------------------------------\\n\n",
      "\n",
      "Question 4. In what ways can correlation be used to make predictions in various fields?\n",
      "Answer:  Correlation can be used to make predictions in various fields by identifying strong relationships between two variables. If there is a strong correlation between two variables, it is possible to use the value of one variable to predict the value of the other variable. This predictive power of correlation can be utilized in fields such as business, finance, medicine, and psychology to forecast outcomes and make informed decisions based on the identified relationships.\n",
      "------------------------------------------------------------------\\n\n",
      "\n",
      "Question 5. Describe how correlation can be used as a starting point for developing causal models.\n",
      "Answer:  Correlation can be used as a starting point for developing causal models by identifying relationships between variables. When a strong correlation is found between two variables, it suggests that there may be a connection worth exploring further. By understanding the correlation, researchers can investigate potential causal relationships. However, it's important to note that correlation does not imply causation, so further research and experimentation are typically needed to establish causality accurately.\n",
      "------------------------------------------------------------------\\n\n",
      "\n",
      "Question 6. Provide examples of how correlation is used in business, finance, medicine, and psychology.\n",
      "Answer:  In business, correlation can be used to identify relationships between variables like sales, advertising spending, and customer satisfaction. This information can help make better business decisions, such as how to allocate marketing resources.\n",
      "\n",
      "In finance, correlation is used to identify relationships between different financial assets like stocks, bonds, and commodities. This information can be used to build diversified portfolios that reduce risk.\n",
      "\n",
      "In medicine, correlation can be used to identify relationships between different medical variables, such as risk factors for diseases and the effectiveness of treatments. This information can be used to improve the prevention, diagnosis, and treatment of diseases.\n",
      "\n",
      "In psychology, correlation can be used to identify relationships between different psychological variables, such as personality traits, cognitive abilities, and mental disorders. This information can be used to develop better psychological assessments and treatments.\n",
      "------------------------------------------------------------------\\n\n",
      "\n",
      "Question 7. How can correlation be used in the real world by a marketing manager and a financial analyst?\n",
      "Answer:  A marketing manager can use correlation to identify the relationship between advertising spending and sales, helping them decide how much money to allocate to advertising. On the other hand, a financial analyst can use correlation to identify the relationship between the returns of different stocks, which can help in building a diversified portfolio with lower overall risk.\n",
      "------------------------------------------------------------------\\n\n",
      "\n",
      "Question 8. Explain the importance of correlation in making better business decisions and reducing risk in finance.\n",
      "Answer:  In business, correlation is crucial for identifying relationships between different variables like sales, advertising spending, and customer satisfaction. By understanding these relationships through correlation analysis, businesses can make informed decisions on how to allocate resources effectively, such as marketing budgets. This insight can lead to better business strategies and improved outcomes. \n",
      "\n",
      "In finance, correlation helps in identifying relationships between various financial assets like stocks, bonds, and commodities. By analyzing correlations, investors can build diversified portfolios that spread risk across different assets. This diversification strategy helps reduce overall risk in the investment portfolio, making it less vulnerable to fluctuations in any single asset class. Therefore, correlation plays a key role in both business decision-making and risk management in finance.\n",
      "------------------------------------------------------------------\\n\n",
      "\n",
      "Question 9. How can correlation be used to improve the prevention, diagnosis, and treatment of diseases in medicine?\n",
      "Answer:  Correlation can be used in medicine to identify relationships between different medical variables, such as risk factors for diseases and the effectiveness of treatments. By analyzing these correlations, medical researchers and practitioners can improve the prevention, diagnosis, and treatment of diseases. For example, if a correlation is found between a certain lifestyle factor and the risk of developing a disease, public health campaigns can be developed to educate people about the risks and encourage healthier behaviors. Additionally, correlations between treatment methods and patient outcomes can help healthcare providers tailor treatments to individual patients for better results.\n",
      "------------------------------------------------------------------\\n\n",
      "\n",
      "Question 10. In what ways can correlation be used to develop better psychological assessments and treatments in psychology?\n",
      "Answer:  Correlation can be used in psychology to identify relationships between different psychological variables, such as personality traits, cognitive abilities, and mental disorders. By understanding these relationships, psychologists can develop better psychological assessments to diagnose conditions accurately. Additionally, correlation can help in identifying the effectiveness of different treatments for mental disorders, leading to the development of more effective treatment strategies.\n",
      "------------------------------------------------------------------\\n\n",
      "\n"
     ]
    }
   ],
   "source": [
    "# wrapper \n",
    "\n",
    "for question in ques_list:\n",
    "    print(\"Question\", question)\n",
    "    answer = answer_generation_chain.run(question) \n",
    "    print(\"Answer: \", answer)\n",
    "    print(\"------------------------------------------------------------------\\\\n\\n\")\n",
    "    # Save answer to file\n",
    "    with open(\"answers.txt\", \"a\") as f:\n",
    "        f.write(\"Question: \" + question + \"\\n\\n\")\n",
    "        f.write(\"Answer: \" + answer + \"\\\\n\")\n",
    "        f.write(\"-------------------------------------------------------------\\\\n\\n\") \n",
    "\n",
    "        "
   ]
  }
 ],
 "metadata": {
  "kernelspec": {
   "display_name": "interview",
   "language": "python",
   "name": "python3"
  },
  "language_info": {
   "codemirror_mode": {
    "name": "ipython",
    "version": 3
   },
   "file_extension": ".py",
   "mimetype": "text/x-python",
   "name": "python",
   "nbconvert_exporter": "python",
   "pygments_lexer": "ipython3",
   "version": "3.10.14"
  }
 },
 "nbformat": 4,
 "nbformat_minor": 2
}
